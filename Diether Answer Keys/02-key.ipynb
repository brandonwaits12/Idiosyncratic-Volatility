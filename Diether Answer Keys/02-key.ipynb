{
 "cells": [
  {
   "cell_type": "markdown",
   "metadata": {},
   "source": [
    "**Fin 585R**  \n",
    "**Diether**  \n",
    "**Problem Set**  \n",
    "**Intro to Python/Pandas**  \n",
    "\n",
    "**Overview**\n",
    "\n",
    "This problem set is designed to introduce you to using Python for empirical analysis. You can discuss this problem set and get coding help from other students in the class. But you must prepare your own answers. This assignment will be graded based on effort. Do your best, don’t worry if you can’t answer all the questions. We will discuss the problem set in class. You may find [Pandas Documentation](http://pandas.pydata.org/) useful.\n",
    "\n",
    "*Please submit you Jupyter notebook to Learning Suite before class.*\n",
    "\n",
    "\n",
    "**Learning Objectives**\n",
    "\n",
    "The goal of this homework is to give you practice with some of the core concepts I highlighted in the introduction:\n",
    "\n",
    "+ Getting data into a dataframe and working with this core data structure. For example, hopefully you take advantage of a dataframe's built in functions (methods) to answer some of the questions.<br><br>\n",
    "\n",
    "+ Printing out data using various methods.<br><br>\n",
    "\n",
    "+ Selecting data and creating variaables using if/then/else logic.<br><br>\n",
    "\n",
    "+ Your first use of the groupby/apply pandas programming framework.<br><br>\n",
    "\n",
    "\n",
    "**Data Analysis with Python/Pandas**\n",
    "\n",
    "You can download the data for the problem set here: [Monthly Stock Return and Analyst Data](http://diether.org/prephd/02-mstk_analysts.csv). There is also a link to the data on the schedule page of *Learning Suite*. The data are monthly observations for all stocks listed in the United States during 2020 The data contain the following variables:\n",
    "\n",
    "|Variable | Description                                              |\n",
    "|---------|----------------------------------------------------------|\n",
    "|permno   | stock identifier                                         |\n",
    "|caldt    | calendar date                                            |\n",
    "|ticker   | another stock identifier                                 |\n",
    "|ret      | monthly return                                           |\n",
    "|prc      | stock price                                              |   \n",
    "|me       | market value of equity (in millions)                     |\n",
    "|analysts | number of analysts covering the stock                    |\n",
    "\n",
    "\n",
    "**Tasks and Questions**\n",
    "\n",
    "1. Print out the first 10 observations of the data.<br><br>\n",
    "\n",
    "2. Create a new column in the dataframe the contains the natural log of (1 + analysts).<br><br>\n",
    "\n",
    "3. During June of 2020, what is the price of Hormel's stock? Note, the ticker symbol for Hormel is HRL.<br><br>\n",
    "\n",
    "4. What is the average number of analysts covering Tesla? Note, the ticker symbol for Tesla is TSLA.<br><br>\n",
    "\n",
    "5. Create a new column in the dataframe that is True if the number of analysts is greater than 10 and False otherwise. <br><br>\n",
    "\n",
    "6. Harder questions: questions 6-8 increase the difficulty. Do your best. Hint, use the `groupby` command. Compute the average market-cap (the column named me) for observations with more than 10 analysts and observations with less than 10 analysts. <br><br>\n",
    "\n",
    "7. Compute the number of stocks in the dataframe by month.<br><br>\n",
    "\n",
    "8. Compute the aggregate market-cap of all stocks in the dataframe by month.<br><br>\n",
    "\n",
    "9. Create a new dataframe (call it sub) that contains all the observations of Google (ticker=GOOG) and Microsoft (MSFT).<br><br>"
   ]
  },
  {
   "cell_type": "code",
   "execution_count": null,
   "metadata": {},
   "outputs": [],
   "source": [
    "import numpy as np\n",
    "import pandas as pd"
   ]
  },
  {
   "cell_type": "code",
   "execution_count": null,
   "metadata": {},
   "outputs": [],
   "source": [
    "df = pd.read_csv('https://diether.org/prephd/02-mstk_analysts.csv',parse_dates=['caldt'])"
   ]
  },
  {
   "cell_type": "markdown",
   "metadata": {},
   "source": [
    "<br>**Q1.** Print out the first 10 observations of the data."
   ]
  },
  {
   "cell_type": "code",
   "execution_count": null,
   "metadata": {},
   "outputs": [],
   "source": [
    "df[:10]"
   ]
  },
  {
   "cell_type": "code",
   "execution_count": null,
   "metadata": {},
   "outputs": [],
   "source": [
    "df.loc[:10,]"
   ]
  },
  {
   "cell_type": "code",
   "execution_count": null,
   "metadata": {},
   "outputs": [],
   "source": [
    "df.head(10)"
   ]
  },
  {
   "cell_type": "markdown",
   "metadata": {},
   "source": [
    "<br>**Q2.** Create a new column in the dataframe the contains the natural log of (1 + analysts)."
   ]
  },
  {
   "cell_type": "code",
   "execution_count": null,
   "metadata": {},
   "outputs": [],
   "source": [
    "df['logalyst'] = np.log(1 + df['analysts'])\n",
    "df.tail()"
   ]
  },
  {
   "cell_type": "code",
   "execution_count": null,
   "metadata": {},
   "outputs": [],
   "source": [
    "df['logalyst'] = df.eval(\"log(1+analysts)\")\n",
    "df.tail()"
   ]
  },
  {
   "cell_type": "markdown",
   "metadata": {},
   "source": [
    "<br>**Q3.** During June of 2020, what is the price of Hormel's stock?"
   ]
  },
  {
   "cell_type": "code",
   "execution_count": null,
   "metadata": {},
   "outputs": [],
   "source": [
    "df[(df['ticker'] == 'HRL') & (df['caldt'] == '2020-06-30')]"
   ]
  },
  {
   "cell_type": "code",
   "execution_count": null,
   "metadata": {},
   "outputs": [],
   "source": [
    "df.loc[(df['ticker'] == 'HRL') & (df['caldt'] == '2020-06-30')]"
   ]
  },
  {
   "cell_type": "code",
   "execution_count": null,
   "metadata": {},
   "outputs": [],
   "source": [
    "df.query(\"ticker == 'HRL' and caldt == '2020-06-30'\")"
   ]
  },
  {
   "cell_type": "code",
   "execution_count": null,
   "metadata": {},
   "outputs": [],
   "source": [
    "df.query(\"ticker == 'HRL' and  '2020-06-01' <= caldt <= '2020-06-30'\")"
   ]
  },
  {
   "cell_type": "markdown",
   "metadata": {},
   "source": [
    "<br>**Q4.** average number of analysts covering Tesla?"
   ]
  },
  {
   "cell_type": "code",
   "execution_count": null,
   "metadata": {},
   "outputs": [],
   "source": [
    "df.query(\"ticker == 'TSLA'\")['analysts'].mean()"
   ]
  },
  {
   "cell_type": "code",
   "execution_count": null,
   "metadata": {},
   "outputs": [],
   "source": [
    "df.loc[df['ticker'] == 'TSLA','analysts'].mean()"
   ]
  },
  {
   "cell_type": "markdown",
   "metadata": {},
   "source": [
    "**The Follwing Works But It's Generally a Bad Idea**\n",
    "\n",
    "+ Avoid brackets againts brackets.<br><br>\n",
    "\n",
    "+ Vast majority of time will work just fine, but can lead to subtle errors in certain conditions."
   ]
  },
  {
   "cell_type": "code",
   "execution_count": null,
   "metadata": {},
   "outputs": [],
   "source": [
    "df.loc[df['ticker'] == 'TSLA']['analysts'].mean()"
   ]
  },
  {
   "cell_type": "markdown",
   "metadata": {},
   "source": [
    "<br>**Q5.** New column where analysts is greater than 10"
   ]
  },
  {
   "cell_type": "code",
   "execution_count": null,
   "metadata": {},
   "outputs": [],
   "source": [
    "df['high'] = df['analysts'] > 10\n",
    "df.head()"
   ]
  },
  {
   "cell_type": "markdown",
   "metadata": {},
   "source": [
    "<br>**Q6.** Compute the average market-cap for high and low analyst coverage (10)."
   ]
  },
  {
   "cell_type": "code",
   "execution_count": null,
   "metadata": {},
   "outputs": [],
   "source": [
    "df.groupby('high')['me'].mean()"
   ]
  },
  {
   "cell_type": "markdown",
   "metadata": {},
   "source": [
    "<br>**Q7.** Stocks in the dataframe by month"
   ]
  },
  {
   "cell_type": "code",
   "execution_count": null,
   "metadata": {},
   "outputs": [],
   "source": [
    "df.groupby('caldt')['permno'].count().tail(36)"
   ]
  },
  {
   "cell_type": "code",
   "execution_count": null,
   "metadata": {},
   "outputs": [],
   "source": [
    "df.groupby('caldt')['permno'].count().plot()"
   ]
  },
  {
   "cell_type": "markdown",
   "metadata": {},
   "source": [
    "**Q8.** Compute the aggregate market-cap of all stocks in the dataframe by month."
   ]
  },
  {
   "cell_type": "code",
   "execution_count": null,
   "metadata": {},
   "outputs": [],
   "source": [
    "df.groupby('caldt')['me'].sum().round(1).tail(36)"
   ]
  },
  {
   "cell_type": "markdown",
   "metadata": {},
   "source": [
    "**Q9.** Create a new dataframe (call it sub) that contains all the observations of Google (ticker=GOOG) and Microsoft (MSFT)."
   ]
  },
  {
   "cell_type": "code",
   "execution_count": null,
   "metadata": {},
   "outputs": [],
   "source": [
    "sub = df.query(\"ticker == 'GOOG' or ticker == 'MSFT'\")\n",
    "sub"
   ]
  },
  {
   "cell_type": "code",
   "execution_count": null,
   "metadata": {},
   "outputs": [],
   "source": [
    "sub = df.query(\"ticker in ['GOOG','MSFT']\").reset_index(drop=True)\n",
    "sub"
   ]
  },
  {
   "cell_type": "code",
   "execution_count": null,
   "metadata": {},
   "outputs": [],
   "source": []
  }
 ],
 "metadata": {
  "kernelspec": {
   "display_name": "Python 3 (ipykernel)",
   "language": "python",
   "name": "python3"
  },
  "language_info": {
   "codemirror_mode": {
    "name": "ipython",
    "version": 3
   },
   "file_extension": ".py",
   "mimetype": "text/x-python",
   "name": "python",
   "nbconvert_exporter": "python",
   "pygments_lexer": "ipython3",
   "version": "3.10.13"
  }
 },
 "nbformat": 4,
 "nbformat_minor": 1
}
