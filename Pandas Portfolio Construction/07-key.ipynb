{
 "cells": [
  {
   "cell_type": "markdown",
   "metadata": {},
   "source": [
    "**Diether**  \n",
    "**Fin 585R**  \n",
    "**Homework**  \n",
    "**Intro to Merging Data**\n",
    "\n",
    "**Overview**\n",
    "\n",
    "Merging data is a critical empirical skill. Modern empirical finance research often requires a researcher to merge together data from multiple sources. It's not unusual to have to merge together somewhere between 5-10 fairly large datasets for one empirical paper these days. Fortunately, `Pandas` merging capabilities and features are very good. The language or idioms for merging in `Pandas` mostly come from `SQL`. Please read the `Pandas`' documentation on merging before completing this homework:\n",
    "\n",
    "[Pandas' Docs: Merging](https://pandas.pydata.org/pandas-docs/stable/user_guide/merging.html)\n",
    "<br>\n",
    "\n",
    "The tasks below force you to work through `pandas` fundamental merging capabilities. "
   ]
  },
  {
   "cell_type": "code",
   "execution_count": null,
   "metadata": {},
   "outputs": [],
   "source": [
    "import numpy as np\n",
    "import pandas as pd"
   ]
  },
  {
   "cell_type": "markdown",
   "metadata": {},
   "source": [
    "**Task 1**  \n",
    "\n",
    "Merge the two dataframes (df1 and df2) so the resulting output looks like the following:\n",
    "\n",
    "```\n",
    "   id    x    y   v   w\n",
    "0  i0   x0   y0  v0  w0\n",
    "1  i2   x2   y2  v2  w2\n",
    "2  i3   x3   y3  v3  w3\n",
    "3  i4  NaN  NaN  v4  w4\n",
    "4  i6  NaN  NaN  v6  w6\n",
    "```"
   ]
  },
  {
   "cell_type": "code",
   "execution_count": null,
   "metadata": {},
   "outputs": [],
   "source": [
    "df1 = pd. DataFrame({'id': ['i0', 'i1', 'i2', 'i3','i5'],\n",
    "                     'x': ['x0', 'x1', 'x2', 'x3','x5'],\n",
    "                    'y': ['y0', 'y1', 'y2', 'y3','y5']})\n",
    "df1"
   ]
  },
  {
   "cell_type": "code",
   "execution_count": null,
   "metadata": {},
   "outputs": [],
   "source": [
    "df2 = pd.DataFrame({'id': ['i0','i2', 'i3','i4','i6'],\n",
    "                    'w': ['w0', 'w2', 'w3','w4','w6'],\n",
    "                    'v': ['v0', 'v2', 'v3','v4','v6']})\n",
    "df2"
   ]
  },
  {
   "cell_type": "code",
   "execution_count": null,
   "metadata": {},
   "outputs": [],
   "source": [
    "pd.merge(df1,df2,on='id',how='right')"
   ]
  },
  {
   "cell_type": "code",
   "execution_count": null,
   "metadata": {},
   "outputs": [],
   "source": [
    "df1.merge(df2,on='id',how='right')"
   ]
  },
  {
   "cell_type": "markdown",
   "metadata": {},
   "source": [
    "**Task 2**  \n",
    "\n",
    "Continue to use the dataframes from Task 1. Merge the two dataframes (df1 and df2) so that the resulting output looks like the following:\n",
    "\n",
    "```\n",
    "   id    x    y    v    w\n",
    "0  i0   x0   y0   v0   w0\n",
    "1  i1   x1   y1  NaN  NaN\n",
    "2  i2   x2   y2   v2   w2\n",
    "3  i3   x3   y3   v3   w3\n",
    "4  i5   x5   y5  NaN  NaN\n",
    "5  i4  NaN  NaN   v4   w4\n",
    "6  i6  NaN  NaN   v6   w6\n",
    "```"
   ]
  },
  {
   "cell_type": "code",
   "execution_count": null,
   "metadata": {},
   "outputs": [],
   "source": [
    "df1.merge(df2,on='id',how='outer')"
   ]
  },
  {
   "cell_type": "markdown",
   "metadata": {},
   "source": [
    "**Task 3**\n",
    "\n",
    "Merge the two dataframes (`df` and `extra`) so that the resulting output looks like the following:\n",
    "\n",
    "```\n",
    "          me       ret stock  year  analysts  earnings\n",
    "0  me_0,2014  r_0,2014    S0  2014  a_0,2014  e_0,2014\n",
    "1  me_0,2015  r_0,2015    S0  2015       NaN       NaN\n",
    "2  me_1,2014  r_1,2014    S1  2014  a_1,2014  e_1,2014\n",
    "3  me_1,2015  r_1,2015    S2  2015  a_2,2015  e_2,2015\n",
    "```"
   ]
  },
  {
   "cell_type": "code",
   "execution_count": null,
   "metadata": {},
   "outputs": [],
   "source": [
    "df = pd.DataFrame({'stock': ['S0', 'S0', 'S1', 'S2'],\n",
    "                   'year': ['2014', '2015', '2014', '2015'],\n",
    "                   'ret': ['r_0,2014', 'r_0,2015', 'r_1,2014', 'r_1,2015'],\n",
    "                   'me': ['me_0,2014', 'me_0,2015', 'me_1,2014', 'me_1,2015']})\n",
    "df"
   ]
  },
  {
   "cell_type": "code",
   "execution_count": null,
   "metadata": {},
   "outputs": [],
   "source": [
    "extra = pd.DataFrame({'stock': ['S0', 'S1', 'S1', 'S2'],\n",
    "                      'year' : ['2014', '2014', '2015', '2015'],\n",
    "                      'earnings': ['e_0,2014', 'e_1,2014', 'e_1,2015', 'e_2,2015'],\n",
    "                      'analysts': ['a_0,2014', 'a_1,2014', 'a_1,2015', 'a_2,2015']})\n",
    "extra"
   ]
  },
  {
   "cell_type": "code",
   "execution_count": null,
   "metadata": {},
   "outputs": [],
   "source": [
    "df.merge(extra,on=['stock','year'],how='left')"
   ]
  },
  {
   "cell_type": "code",
   "execution_count": null,
   "metadata": {},
   "outputs": [],
   "source": []
  },
  {
   "cell_type": "code",
   "execution_count": null,
   "metadata": {},
   "outputs": [],
   "source": []
  },
  {
   "cell_type": "code",
   "execution_count": null,
   "metadata": {},
   "outputs": [],
   "source": []
  }
 ],
 "metadata": {
  "anaconda-cloud": {},
  "kernelspec": {
   "display_name": "Python 3 (ipykernel)",
   "language": "python",
   "name": "python3"
  },
  "language_info": {
   "codemirror_mode": {
    "name": "ipython",
    "version": 3
   },
   "file_extension": ".py",
   "mimetype": "text/x-python",
   "name": "python",
   "nbconvert_exporter": "python",
   "pygments_lexer": "ipython3",
   "version": "3.10.13"
  }
 },
 "nbformat": 4,
 "nbformat_minor": 1
}
