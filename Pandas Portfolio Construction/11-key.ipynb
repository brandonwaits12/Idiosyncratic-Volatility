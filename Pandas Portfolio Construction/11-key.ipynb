{
 "cells": [
  {
   "cell_type": "markdown",
   "metadata": {},
   "source": [
    "**Fin 585R**  \n",
    "**Diether**  \n",
    "**Problem Set**  \n",
    "**Cross-Sectional Tests of the CAPM**  \n",
    "\n",
    "**Overview**  \n",
    "\n",
    "In this problem set you test the CAPM using a cross-sectional framework. Specifically, you test whether the CAPM holds using the Fama-MacBeth (1973) methodology. Before proceeding you need the datafile for this assignment. It's on Learning Suite ('mstk_fm_29-63.csv') or you can download it directly via this link: [Month Stock file: 29-63](http://diether.org/prephd/11-mstk_fm_29-63.csv). The data are a panel with returns from February 1929 to June of 1963 for all stocks common stocks on CRSP during the period:\n",
    "\n",
    "| Variable | Description                                                                  |\n",
    "|----------|------------------------------------------------------------------------------|\n",
    "| permno   | stock identifier                                                             |\n",
    "| caldt    | the calendar month                                                           |\n",
    "| ret      | return (from the close of the end of month t − 1 to the close of month t)    |\n",
    "| beta     | the estimated beta, estimated using data from months t − 60 to t − 1         |\n",
    "| melag    | market-cap lagged one month                                                  |\n",
    "| bmlag    | book to market equity lagged as in Fama-French (1992)                        |\n",
    "\n",
    "Essentially, your overall task for this homework is an out of sample test of Fama and French (1992).\n",
    "\n",
    "For questions that require some write-up, create a markdown cell (use the Cell Toolbar)  and write your answer in the markdown cell (this cell is a markdown cell and here is a [markdown cheat sheet](https://github.com/adam-p/markdown-here/wiki/Markdown-Cheatsheet)). <br><br>\n",
    "\n",
    "**Tasks and Questions**  \n",
    "\n",
    "1. I want you to test the CAPM by estimating Fama-MacBeth regressions of the following form: <br><br>\n",
    "$$\n",
    "r_{it} = \\gamma_{0t} + \\gamma_{1t}\\hat{\\beta}_{it} + \\gamma_{2t}log(ME_{i,t-1})\n",
    "                     + \\gamma_{3t}log([\\tfrac{B}{M}]_{i,t-1}) + \\nu_{it}\n",
    "$$\n",
    "<br> Explain how estimating these Fama-MacBeth regressions is a test of the CAPM. `Pandas` does *not* have a built in Fama-MacBeth function. It used too, but it was removed. However, the Fin 585 Library does have a Fama MacBeth regression function: [Fama MacBeth Docs](https://fin-library.readthedocs.io/en/latest/fama_macbeth.html). Use it to estimate the regression above.<br><br>\n",
    "\n",
    "2. Based on your results in question (2), can you reject the CAPM? Explain. <br><br>\n",
    "\n",
    "3. This time I want you to estimate Fama-MacBeth regressions of the following form: <br><br>\n",
    "$$\n",
    "r_{it} = \\gamma_{0t} + \\gamma_{1t}\\hat{\\beta}_{it} + \\nu_{it}\n",
    "$$\n",
    "<br> Report the results of your Fama-MacBeth regressions in a table (it should include standard errors and t-statistics).<br><br>\n",
    "\n",
    "4. Based on your results in question (4), can you reject the CAPM? Explain. Is it even possible to ever reject the CAPM with a regression specification like the one you used in question (4)? <br><br>"
   ]
  },
  {
   "cell_type": "code",
   "execution_count": null,
   "metadata": {},
   "outputs": [],
   "source": [
    "import pandas as pd\n",
    "import numpy as np\n",
    "import statsmodels.formula.api as smf\n",
    "from finance_byu.fama_macbeth import fama_macbeth, fm_summary"
   ]
  },
  {
   "cell_type": "code",
   "execution_count": null,
   "metadata": {},
   "outputs": [],
   "source": [
    "df = pd.read_csv('https://diether.org/prephd/11-mstk_fm_29-63.csv',\n",
    "                 parse_dates=['caldt'])\n",
    "df.head(10)"
   ]
  },
  {
   "cell_type": "code",
   "execution_count": null,
   "metadata": {},
   "outputs": [],
   "source": [
    "df['ret'] *= 100\n",
    "df['logme'] = np.log(df['melag'])\n",
    "df['logbm'] = np.log(df['bmlag'])"
   ]
  },
  {
   "cell_type": "markdown",
   "metadata": {},
   "source": [
    "**Task 1**\n",
    "\n",
    "$$\n",
    "r_{it} = \\gamma_{0t} + \\gamma_{1t}\\hat{\\beta}_{it} + \\gamma_{2t}log(ME_{i,t-1})\n",
    "                     + \\gamma_{3t}log([\\tfrac{B}{M}]_{i,t-1}) + \\nu_{it}\n",
    "$$"
   ]
  },
  {
   "cell_type": "code",
   "execution_count": null,
   "metadata": {},
   "outputs": [],
   "source": [
    "fm = fama_macbeth(df,'caldt',yvar='ret',xvar=['beta','logme','logbm'])\n",
    "fm_summary(fm,pvalues=True).round(3)"
   ]
  },
  {
   "cell_type": "markdown",
   "metadata": {},
   "source": [
    "**fm is just a DataFrame**\n",
    "\n",
    "+ The `fama_macbeth` function just returns a DataFrame with the month by month estimation result<br>"
   ]
  },
  {
   "cell_type": "code",
   "execution_count": null,
   "metadata": {},
   "outputs": [],
   "source": [
    "fm"
   ]
  },
  {
   "cell_type": "markdown",
   "metadata": {},
   "source": [
    "**Task 3**"
   ]
  },
  {
   "cell_type": "code",
   "execution_count": null,
   "metadata": {},
   "outputs": [],
   "source": [
    "fm = fama_macbeth(df,'caldt',yvar='ret',xvar=['beta'])\n",
    "fm_summary(fm,pvalues=True).round(3)"
   ]
  },
  {
   "cell_type": "markdown",
   "metadata": {},
   "source": [
    "**From Scratch**"
   ]
  },
  {
   "cell_type": "code",
   "execution_count": null,
   "metadata": {},
   "outputs": [],
   "source": [
    "def ols_coef(x,formula):\n",
    "    return smf.ols(formula,data=x).fit().params\n",
    "\n",
    "gamma = df.groupby('caldt')[['ret','beta','logme','logbm']].apply(ols_coef,'ret ~ beta + logme + logbm')\n",
    "gamma.head()"
   ]
  },
  {
   "cell_type": "code",
   "execution_count": null,
   "metadata": {},
   "outputs": [],
   "source": [
    "fm_summary(gamma,pvalues=True).round(3)"
   ]
  },
  {
   "cell_type": "code",
   "execution_count": null,
   "metadata": {},
   "outputs": [],
   "source": []
  }
 ],
 "metadata": {
  "anaconda-cloud": {},
  "kernelspec": {
   "display_name": "Python 3 (ipykernel)",
   "language": "python",
   "name": "python3"
  },
  "language_info": {
   "codemirror_mode": {
    "name": "ipython",
    "version": 3
   },
   "file_extension": ".py",
   "mimetype": "text/x-python",
   "name": "python",
   "nbconvert_exporter": "python",
   "pygments_lexer": "ipython3",
   "version": "3.10.13"
  }
 },
 "nbformat": 4,
 "nbformat_minor": 1
}
